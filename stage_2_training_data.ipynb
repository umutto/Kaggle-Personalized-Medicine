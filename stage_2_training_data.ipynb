{
 "cells": [
  {
   "cell_type": "markdown",
   "metadata": {
    "_cell_guid": "723427d4-4bef-43a0-9b0c-f02d5b8ef234",
    "_uuid": "87614aaf86000b6506d1e239a695df05c72b6aa3"
   },
   "source": [
    "As per [this answer](https://www.kaggle.com/c/msk-redefining-cancer-treatment/discussion/39782#224266) from discussion forum, we can use the test labels from stage 1 for training.  \n",
    "I've concatenated all former csv's into train, test DataFrames for my own use, thought it would be helpfull for others as well.  \n",
    "\n",
    "---\n",
    "This notebook will read all data into memory, join and output train and test DataFrames.  \n",
    "Training DataFrame has `[3689, 4]` *(3321 training values + 368 stage 1 test values)* shape with `['Class', 'Gene', 'Text', 'Variation']` columns.  \n",
    "While Test DataFrame now has `[5300, 3]` *(5668 test values - 368 stage 1 test values)* shape with `['Gene', 'Text', 'Variation']` columns.  \n",
    "  \n",
    "Bear in mind the results you achieve from the test DataFrame will not work for your kaggle submissions csv since I've removed the ones with labels. Use the old test file for your submission. This is necessary for better cross validation if you are going to use this kernel.  \n",
    "  \n",
    "*Since the relased test ID's and former training ID's conflict with each other, I've just reset the index on final training DataFrame to make them unique and cause less confusion.*"
   ]
  },
  {
   "cell_type": "code",
   "execution_count": 1,
   "metadata": {
    "_cell_guid": "c7e6e9b1-61aa-4c62-b36f-8f78a4257fb3",
    "_uuid": "21cabeb46b5d3077b0350cc149e9f0a95693c9b6",
    "collapsed": true
   },
   "outputs": [],
   "source": [
    "import pandas as pd "
   ]
  },
  {
   "cell_type": "code",
   "execution_count": 2,
   "metadata": {
    "_cell_guid": "4f4afd9c-c2c3-4e29-bf30-1f034a3e5513",
    "_uuid": "613a626c2f9a1b56e77bab9c651ec147ba17bc64",
    "collapsed": true
   },
   "outputs": [],
   "source": [
    "# read train_variants, train_text and join them\n",
    "df_variants_train = pd.read_csv('../input/training_variants', usecols=['Gene', 'Variation', 'Class'])\n",
    "df_text_train = pd.read_csv('../input/training_text', sep='\\|\\|', engine='python', skiprows=1, names=['ID', 'Text'])\n",
    "df_variants_train['Text'] = df_text_train['Text']\n",
    "df_train = df_variants_train"
   ]
  },
  {
   "cell_type": "code",
   "execution_count": 3,
   "metadata": {
    "_cell_guid": "1a333d59-b31b-4380-b751-184666045999",
    "_uuid": "ae53c7331cc89b78b81f81b3893c4b25b4176c8c",
    "collapsed": true
   },
   "outputs": [],
   "source": [
    "# read test_variants, test_text and join them\n",
    "df_variants_test = pd.read_csv('../input/test_variants', usecols=['ID', 'Gene', 'Variation'])\n",
    "df_text_test = pd.read_csv('../input/test_text', sep='\\|\\|', engine='python', skiprows=1, names=['ID', 'Text'])\n",
    "df_variants_test['Text'] = df_text_test['Text']\n",
    "df_test = df_variants_test\n",
    "\n",
    "# read stage1 solutions\n",
    "df_labels_test = pd.read_csv('../input/stage1_solution_filtered.csv')\n",
    "df_labels_test['Class'] = df_labels_test.drop('ID', axis=1).idxmax(axis=1).str[5:]\n",
    "\n",
    "# remove known labels from test_set\n",
    "df_stage_2_test = df_test[~df_test.index.isin(df_labels_test['ID'])].set_index('ID')\n",
    "\n",
    "# join with test_data on same indexes\n",
    "df_test = df_test.merge(df_labels_test[['ID', 'Class']], on='ID', how='left').drop('ID', axis=1)\n",
    "df_test = df_test[df_test['Class'].notnull()]"
   ]
  },
  {
   "cell_type": "code",
   "execution_count": 4,
   "metadata": {
    "_cell_guid": "2b773813-38c3-4003-b860-c048ac209601",
    "_uuid": "a2cfbcf43c553d5c72cf0c24e2287fda278d527f"
   },
   "outputs": [],
   "source": [
    "# join train and test files\n",
    "df_stage_2_train = pd.concat([df_train, df_test])\n",
    "\n",
    "# reset index to a range for readability\n",
    "df_stage_2_train.reset_index(drop=True, inplace=True)"
   ]
  },
  {
   "cell_type": "code",
   "execution_count": 5,
   "metadata": {
    "collapsed": true
   },
   "outputs": [
    {
     "name": "stdout",
     "output_type": "stream",
     "text": [
      "<class 'pandas.core.frame.DataFrame'>\n",
      "RangeIndex: 3689 entries, 0 to 3688\n",
      "Data columns (total 4 columns):\n",
      "Class        3689 non-null object\n",
      "Gene         3689 non-null object\n",
      "Text         3689 non-null object\n",
      "Variation    3689 non-null object\n",
      "dtypes: object(4)\n",
      "memory usage: 115.4+ KB\n"
     ]
    }
   ],
   "source": [
    "# training DataFrame\n",
    "df_stage_2_train.info()"
   ]
  },
  {
   "cell_type": "code",
   "execution_count": 6,
   "metadata": {
    "_cell_guid": "11ee410c-db71-4353-9062-0d24438b66ff",
    "_uuid": "7a0a38d1fa94bee57aafe9c41e9d4fbf2890e311"
   },
   "outputs": [
    {
     "name": "stdout",
     "output_type": "stream",
     "text": [
      "<class 'pandas.core.frame.DataFrame'>\n",
      "Int64Index: 5300 entries, 0 to 5667\n",
      "Data columns (total 3 columns):\n",
      "Gene         5300 non-null object\n",
      "Variation    5300 non-null object\n",
      "Text         5300 non-null object\n",
      "dtypes: object(3)\n",
      "memory usage: 165.6+ KB\n"
     ]
    }
   ],
   "source": [
    "# test DataFrame\n",
    "df_stage_2_test.info()"
   ]
  }
 ],
 "metadata": {
  "kernelspec": {
   "display_name": "Python 3",
   "language": "python",
   "name": "python3"
  },
  "language_info": {
   "codemirror_mode": {
    "name": "ipython",
    "version": 3
   },
   "file_extension": ".py",
   "mimetype": "text/x-python",
   "name": "python",
   "nbconvert_exporter": "python",
   "pygments_lexer": "ipython3",
   "version": "3.6.1"
  }
 },
 "nbformat": 4,
 "nbformat_minor": 1
}
